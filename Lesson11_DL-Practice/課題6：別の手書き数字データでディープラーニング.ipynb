{
  "cells": [
    {
      "cell_type": "markdown",
      "metadata": {
        "id": "mJz-JeQhbVrw"
      },
      "source": [
        "# 課題6: ディープラーニングのモデルを構築しよう\n",
        "\n",
        "今回の課題では手書き数字の認識を、CNNを用いて行います。ただし本課題では、レッスン本編で用いたscikit-learnのものではなく、Kerasのデータセットに含まれている、より大きいサイズの手書き数字データで課題を進めていただきます。\n",
        "\n",
        "下記にKerasから手書き数字のデータセットをダウンロードするコードが記載されています。このデータを用いてディープラーニングのモデルを構築してください。\n",
        "\n",
        "今までのレッスンで学んだ内容を踏まえ、各セルにコードを埋めていってください。\n",
        "\n",
        "（※`変更しないでください`と書かれたセルには、コードの追記変更をしないでください）"
      ]
    },
    {
      "cell_type": "markdown",
      "metadata": {
        "id": "KgH-udyTcJaB"
      },
      "source": [
        "## 1. ライブラリのimport"
      ]
    },
    {
      "cell_type": "code",
      "execution_count": 1,
      "metadata": {
        "id": "Wx_-Na3Lb8rs"
      },
      "outputs": [],
      "source": [
        "# （変更しないでください）\n",
        "\n",
        "# 必要なライブラリのimport\n",
        "import numpy as np\n",
        "import matplotlib.pyplot as plt\n",
        "import pandas as pd\n",
        "\n",
        "# TensorFlow\n",
        "import tensorflow as tf\n",
        "\n",
        "# データの分割\n",
        "from sklearn.model_selection import train_test_split\n",
        "\n",
        "# DataFrameですべての列を表示する設定\n",
        "pd.options.display.max_columns = None"
      ]
    },
    {
      "cell_type": "markdown",
      "metadata": {
        "id": "1dewOfwccbz1"
      },
      "source": [
        "## 2. データの読み込み"
      ]
    },
    {
      "cell_type": "markdown",
      "metadata": {
        "id": "lMIOnrNfcgJT"
      },
      "source": [
        "Kerasのデータセットは、あらかじめTraining setとTest setに分けられています。戻り値はタプルで取得できます。"
      ]
    },
    {
      "cell_type": "code",
      "execution_count": 2,
      "metadata": {
        "id": "MuTk0vJEcIx2"
      },
      "outputs": [],
      "source": [
        "# Kerasに添付されている手書き数字のデータセットをダウンロードして読み込む\n",
        "# （変更しないでください）\n",
        "(X_train, Y_train), (X_test, Y_test) = tf.keras.datasets.mnist.load_data()"
      ]
    },
    {
      "cell_type": "markdown",
      "metadata": {
        "id": "t77ZGAjwcwRq"
      },
      "source": [
        "## 3. データの確認"
      ]
    },
    {
      "cell_type": "code",
      "execution_count": 3,
      "metadata": {
        "id": "ch3rGjLVczNo"
      },
      "outputs": [
        {
          "name": "stdout",
          "output_type": "stream",
          "text": [
            "X_train.shape: (60000, 28, 28)\n",
            "Y_train.shape: (60000,)\n",
            "X_test.shape: (10000, 28, 28)\n"
          ]
        }
      ],
      "source": [
        "# X_train, Y_train, X_test, Y_testの形状を確認\n",
        "print(\"X_train.shape:\", X_train.shape)\n",
        "print(\"Y_train.shape:\", Y_train.shape)\n",
        "print(\"X_test.shape:\", X_test.shape)"
      ]
    },
    {
      "cell_type": "code",
      "execution_count": 4,
      "metadata": {
        "id": "-5LlP376c4O1"
      },
      "outputs": [
        {
          "name": "stdout",
          "output_type": "stream",
          "text": [
            "[[  0   0   0   0   0   0   0   0   0   0   0   0   0   0   0   0   0   0\n",
            "    0   0   0   0   0   0   0   0   0   0]\n",
            " [  0   0   0   0   0   0   0   0   0   0   0   0   0   0   0   0   0   0\n",
            "    0   0   0   0   0   0   0   0   0   0]\n",
            " [  0   0   0   0   0   0   0   0   0   0   0   0   0   0   0   0   0   0\n",
            "    0   0   0   0   0   0   0   0   0   0]\n",
            " [  0   0   0   0   0   0   0   0   0   0   0   0   0   0   0   0   0   0\n",
            "    0   0   0   0   0   0   0   0   0   0]\n",
            " [  0   0   0   0   0   0   0   0   0   0   0   0   0   0   0   0   0   0\n",
            "    0   0   0   0   0   0   0   0   0   0]\n",
            " [  0   0   0   0   0   0   0   0   0   0   0   0   3  18  18  18 126 136\n",
            "  175  26 166 255 247 127   0   0   0   0]\n",
            " [  0   0   0   0   0   0   0   0  30  36  94 154 170 253 253 253 253 253\n",
            "  225 172 253 242 195  64   0   0   0   0]\n",
            " [  0   0   0   0   0   0   0  49 238 253 253 253 253 253 253 253 253 251\n",
            "   93  82  82  56  39   0   0   0   0   0]\n",
            " [  0   0   0   0   0   0   0  18 219 253 253 253 253 253 198 182 247 241\n",
            "    0   0   0   0   0   0   0   0   0   0]\n",
            " [  0   0   0   0   0   0   0   0  80 156 107 253 253 205  11   0  43 154\n",
            "    0   0   0   0   0   0   0   0   0   0]\n",
            " [  0   0   0   0   0   0   0   0   0  14   1 154 253  90   0   0   0   0\n",
            "    0   0   0   0   0   0   0   0   0   0]\n",
            " [  0   0   0   0   0   0   0   0   0   0   0 139 253 190   2   0   0   0\n",
            "    0   0   0   0   0   0   0   0   0   0]\n",
            " [  0   0   0   0   0   0   0   0   0   0   0  11 190 253  70   0   0   0\n",
            "    0   0   0   0   0   0   0   0   0   0]\n",
            " [  0   0   0   0   0   0   0   0   0   0   0   0  35 241 225 160 108   1\n",
            "    0   0   0   0   0   0   0   0   0   0]\n",
            " [  0   0   0   0   0   0   0   0   0   0   0   0   0  81 240 253 253 119\n",
            "   25   0   0   0   0   0   0   0   0   0]\n",
            " [  0   0   0   0   0   0   0   0   0   0   0   0   0   0  45 186 253 253\n",
            "  150  27   0   0   0   0   0   0   0   0]\n",
            " [  0   0   0   0   0   0   0   0   0   0   0   0   0   0   0  16  93 252\n",
            "  253 187   0   0   0   0   0   0   0   0]\n",
            " [  0   0   0   0   0   0   0   0   0   0   0   0   0   0   0   0   0 249\n",
            "  253 249  64   0   0   0   0   0   0   0]\n",
            " [  0   0   0   0   0   0   0   0   0   0   0   0   0   0  46 130 183 253\n",
            "  253 207   2   0   0   0   0   0   0   0]\n",
            " [  0   0   0   0   0   0   0   0   0   0   0   0  39 148 229 253 253 253\n",
            "  250 182   0   0   0   0   0   0   0   0]\n",
            " [  0   0   0   0   0   0   0   0   0   0  24 114 221 253 253 253 253 201\n",
            "   78   0   0   0   0   0   0   0   0   0]\n",
            " [  0   0   0   0   0   0   0   0  23  66 213 253 253 253 253 198  81   2\n",
            "    0   0   0   0   0   0   0   0   0   0]\n",
            " [  0   0   0   0   0   0  18 171 219 253 253 253 253 195  80   9   0   0\n",
            "    0   0   0   0   0   0   0   0   0   0]\n",
            " [  0   0   0   0  55 172 226 253 253 253 253 244 133  11   0   0   0   0\n",
            "    0   0   0   0   0   0   0   0   0   0]\n",
            " [  0   0   0   0 136 253 253 253 212 135 132  16   0   0   0   0   0   0\n",
            "    0   0   0   0   0   0   0   0   0   0]\n",
            " [  0   0   0   0   0   0   0   0   0   0   0   0   0   0   0   0   0   0\n",
            "    0   0   0   0   0   0   0   0   0   0]\n",
            " [  0   0   0   0   0   0   0   0   0   0   0   0   0   0   0   0   0   0\n",
            "    0   0   0   0   0   0   0   0   0   0]\n",
            " [  0   0   0   0   0   0   0   0   0   0   0   0   0   0   0   0   0   0\n",
            "    0   0   0   0   0   0   0   0   0   0]]\n"
          ]
        }
      ],
      "source": [
        "# X_trainの先頭1行を表示\n",
        "print(X_train[0])"
      ]
    },
    {
      "cell_type": "code",
      "execution_count": 5,
      "metadata": {
        "id": "aAgrxQNjc8EB"
      },
      "outputs": [
        {
          "name": "stdout",
          "output_type": "stream",
          "text": [
            "5\n"
          ]
        }
      ],
      "source": [
        "# Y_trainの先頭1行を表示\n",
        "print(Y_train[0])"
      ]
    },
    {
      "cell_type": "markdown",
      "metadata": {
        "id": "KwxyGV3AdEc3"
      },
      "source": [
        "データセットを可視化して表示します。"
      ]
    },
    {
      "cell_type": "code",
      "execution_count": 6,
      "metadata": {
        "id": "rqsXm0NndAQ0"
      },
      "outputs": [
        {
          "data": {
            "image/png": "[encoded data removed]",
            "text/plain": [
              "<Figure size 500x500 with 100 Axes>"
            ]
          },
          "metadata": {},
          "output_type": "display_data"
        }
      ],
      "source": [
        "# （変更しないでください）\n",
        "\n",
        "# 「数字:空のリスト」の辞書を作成する\n",
        "images = {label: [] for label in range(0,10)}\n",
        "\n",
        "# 総イメージ数\n",
        "image_count = 0\n",
        "\n",
        "# それぞれの数字のリストに、説明変数をappendしていく\n",
        "for i in range(0, len(X_train)):\n",
        "    if len(images[Y_train[i]]) < 10:\n",
        "        images[Y_train[i]].append(X_train[i])\n",
        "        image_count += 1\n",
        "        if image_count == 100:\n",
        "            break\n",
        "\n",
        "# 10行10列にグラフを分割\n",
        "fig, ax = plt.subplots(10, 10, figsize=(5, 5))\n",
        "\n",
        "for i in range(10):\n",
        "    # ラベル\n",
        "    ax[i, 0].set_ylabel(i)\n",
        "\n",
        "    for j in range(10):\n",
        "        # 行=i、列=jの位置に画像を描画する\n",
        "        ax[i, j].imshow(images[i][j].reshape(28, 28), cmap='Greys')\n",
        "\n",
        "        # 目盛を表示しない設定\n",
        "        ax[i, j].tick_params(left=False, labelleft=False, bottom=False, labelbottom=False)\n",
        "\n",
        "plt.show()"
      ]
    },
    {
      "cell_type": "markdown",
      "metadata": {
        "id": "VuvBw1RSdl47"
      },
      "source": [
        "## 4. データの前処理"
      ]
    },
    {
      "cell_type": "code",
      "execution_count": 7,
      "metadata": {
        "id": "MpXARtqvdiXY"
      },
      "outputs": [],
      "source": [
        "# len関数を使い、X_trainを(X_trainの長さ, 28, 28, 1)にreshapeしてX_train2に代入\n",
        "X_train2 = X_train.reshape(len(X_train), 28, 28, 1)\n",
        "\n",
        "# len関数を使い、X_testを(X_testの長さ, 28, 28, 1)にreshapeしてX_test2に代入\n",
        "X_test2 = X_test.reshape  (len(X_test), 28, 28, 1)"
      ]
    },
    {
      "cell_type": "code",
      "execution_count": 8,
      "metadata": {
        "id": "_kS-9nETd0OL"
      },
      "outputs": [],
      "source": [
        "# to_categoricalを使い、Y_trainをカテゴリー変数に展開してY_train2に代入\n",
        "Y_train2 = tf.keras.utils.to_categorical(Y_train)\n",
        "\n",
        "# to_categoricalを使い、Y_testをカテゴリー変数に展開してY_test2に代入\n",
        "Y_test2 = tf.keras.utils.to_categorical(Y_test)"
      ]
    },
    {
      "cell_type": "code",
      "execution_count": 9,
      "metadata": {
        "id": "SsJOU4xqfD5H"
      },
      "outputs": [
        {
          "name": "stdout",
          "output_type": "stream",
          "text": [
            "X_train2.shape: (60000, 28, 28, 1)\n",
            "Y_train2.shape: (60000, 10)\n",
            "X_test2.shape: (10000, 28, 28, 1)\n"
          ]
        }
      ],
      "source": [
        "# X_train2, Y_train2, X_test2, Y_test2の形状を確認\n",
        "print(\"X_train2.shape:\", X_train2.shape)\n",
        "print(\"Y_train2.shape:\", Y_train2.shape)\n",
        "print(\"X_test2.shape:\", X_test2.shape)"
      ]
    },
    {
      "cell_type": "code",
      "execution_count": 10,
      "metadata": {
        "id": "kCYBVJEffgWQ"
      },
      "outputs": [],
      "source": [
        "# train_test_splitを使い、学習データと検証データに7:3（検証データが3割）で分割する\n",
        "# （詳細：データ(X_train2、Y_train2)を「X_train2, X_valid2, Y_train2, Y_valid2」に分割）\n",
        "X_train2, X_valid2, Y_train2, Y_valid2 = train_test_split(X_train2, Y_train2, test_size=0.3, random_state=0)"
      ]
    },
    {
      "cell_type": "code",
      "execution_count": 11,
      "metadata": {
        "id": "ek9qpKL_f3Rb"
      },
      "outputs": [
        {
          "name": "stdout",
          "output_type": "stream",
          "text": [
            "X_train2= (42000, 28, 28, 1) , Y_train2= (42000, 10)\n",
            "X_valid2= (18000, 28, 28, 1) , Y_valid2= (18000, 10)\n",
            "X_test2 = (10000, 28, 28, 1) , Y_test2 = (10000, 10)\n"
          ]
        }
      ],
      "source": [
        "# X_train2, Y_train2, X_valid2, Y_valid2, X_test2, Y_test2の形状を確認\n",
        "print(\"X_train2=\", X_train2.shape, \", Y_train2=\", Y_train2.shape)\n",
        "print(\"X_valid2=\", X_valid2.shape, \", Y_valid2=\", Y_valid2.shape)\n",
        "print(\"X_test2 =\", X_test2.shape, \", Y_test2 =\", Y_test2.shape)"
      ]
    },
    {
      "cell_type": "markdown",
      "metadata": {
        "id": "BKF-9MC7gVaP"
      },
      "source": [
        "## 5. モデルの構築\n",
        "\n",
        "Kerasを使ってモデルを構築してみましょう。以下を条件とします：\n",
        "\n",
        "- CNN(Conv2D)を使うこと\n",
        "- 正解率(accuracy)が50%以上であること\n",
        "\n",
        "場合によっては、学習にものすごく時間がかかる場合もあります。適宜、パラメータ数を調整して行なってください。"
      ]
    },
    {
      "cell_type": "code",
      "execution_count": 12,
      "metadata": {
        "id": "899SotmNgTzZ"
      },
      "outputs": [],
      "source": [
        "# （モデルの初期化から構築までのコードを、このセル以下に記述してください）\n",
        "# モデルの初期化\n",
        "model = tf.keras.Sequential([\n",
        "    # 入力層\n",
        "    tf.keras.Input(shape=(28, 28, 1)),\n",
        "    tf.keras.layers.Conv2D(32, kernel_size=3, padding=\"same\", strides=1, activation=\"relu\"),\n",
        "    tf.keras.layers.Flatten(),\n",
        "    # 隠れ層\n",
        "    tf.keras.layers.Dense(16, activation='relu'),\n",
        "    # 出力層\n",
        "    tf.keras.layers.Dense(10, activation='softmax')\n",
        "])\n",
        "\n",
        "# モデルの構築\n",
        "model.compile(optimizer = \"rmsprop\", loss='categorical_crossentropy', metrics=['accuracy'])"
      ]
    },
    {
      "cell_type": "code",
      "execution_count": 13,
      "metadata": {
        "id": "w2V9_anCzjfT"
      },
      "outputs": [
        {
          "data": {
            "text/html": [
              "<pre style=\"white-space:pre;overflow-x:auto;line-height:normal;font-family:Menlo,'DejaVu Sans Mono',consolas,'Courier New',monospace\"><span style=\"font-weight: bold\">Model: \"sequential\"</span>\n",
              "</pre>\n"
            ],
            "text/plain": [
              "\u001b[1mModel: \"sequential\"\u001b[0m\n"
            ]
          },
          "metadata": {},
          "output_type": "display_data"
        },
        {
          "data": {
            "text/html": [
              "<pre style=\"white-space:pre;overflow-x:auto;line-height:normal;font-family:Menlo,'DejaVu Sans Mono',consolas,'Courier New',monospace\">┏━━━━━━━━━━━━━━━━━━━━━━━━━━━━━━━━━┳━━━━━━━━━━━━━━━━━━━━━━━━┳━━━━━━━━━━━━━━━┓\n",
              "┃<span style=\"font-weight: bold\"> Layer (type)                    </span>┃<span style=\"font-weight: bold\"> Output Shape           </span>┃<span style=\"font-weight: bold\">       Param # </span>┃\n",
              "┡━━━━━━━━━━━━━━━━━━━━━━━━━━━━━━━━━╇━━━━━━━━━━━━━━━━━━━━━━━━╇━━━━━━━━━━━━━━━┩\n",
              "│ conv2d (<span style=\"color: #0087ff; text-decoration-color: #0087ff\">Conv2D</span>)                 │ (<span style=\"color: #00d7ff; text-decoration-color: #00d7ff\">None</span>, <span style=\"color: #00af00; text-decoration-color: #00af00\">28</span>, <span style=\"color: #00af00; text-decoration-color: #00af00\">28</span>, <span style=\"color: #00af00; text-decoration-color: #00af00\">32</span>)     │           <span style=\"color: #00af00; text-decoration-color: #00af00\">320</span> │\n",
              "├─────────────────────────────────┼────────────────────────┼───────────────┤\n",
              "│ flatten (<span style=\"color: #0087ff; text-decoration-color: #0087ff\">Flatten</span>)               │ (<span style=\"color: #00d7ff; text-decoration-color: #00d7ff\">None</span>, <span style=\"color: #00af00; text-decoration-color: #00af00\">25088</span>)          │             <span style=\"color: #00af00; text-decoration-color: #00af00\">0</span> │\n",
              "├─────────────────────────────────┼────────────────────────┼───────────────┤\n",
              "│ dense (<span style=\"color: #0087ff; text-decoration-color: #0087ff\">Dense</span>)                   │ (<span style=\"color: #00d7ff; text-decoration-color: #00d7ff\">None</span>, <span style=\"color: #00af00; text-decoration-color: #00af00\">16</span>)             │       <span style=\"color: #00af00; text-decoration-color: #00af00\">401,424</span> │\n",
              "├─────────────────────────────────┼────────────────────────┼───────────────┤\n",
              "│ dense_1 (<span style=\"color: #0087ff; text-decoration-color: #0087ff\">Dense</span>)                 │ (<span style=\"color: #00d7ff; text-decoration-color: #00d7ff\">None</span>, <span style=\"color: #00af00; text-decoration-color: #00af00\">10</span>)             │           <span style=\"color: #00af00; text-decoration-color: #00af00\">170</span> │\n",
              "└─────────────────────────────────┴────────────────────────┴───────────────┘\n",
              "</pre>\n"
            ],
            "text/plain": [
              "┏━━━━━━━━━━━━━━━━━━━━━━━━━━━━━━━━━┳━━━━━━━━━━━━━━━━━━━━━━━━┳━━━━━━━━━━━━━━━┓\n",
              "┃\u001b[1m \u001b[0m\u001b[1mLayer (type)                   \u001b[0m\u001b[1m \u001b[0m┃\u001b[1m \u001b[0m\u001b[1mOutput Shape          \u001b[0m\u001b[1m \u001b[0m┃\u001b[1m \u001b[0m\u001b[1m      Param #\u001b[0m\u001b[1m \u001b[0m┃\n",
              "┡━━━━━━━━━━━━━━━━━━━━━━━━━━━━━━━━━╇━━━━━━━━━━━━━━━━━━━━━━━━╇━━━━━━━━━━━━━━━┩\n",
              "│ conv2d (\u001b[38;5;33mConv2D\u001b[0m)                 │ (\u001b[38;5;45mNone\u001b[0m, \u001b[38;5;34m28\u001b[0m, \u001b[38;5;34m28\u001b[0m, \u001b[38;5;34m32\u001b[0m)     │           \u001b[38;5;34m320\u001b[0m │\n",
              "├─────────────────────────────────┼────────────────────────┼───────────────┤\n",
              "│ flatten (\u001b[38;5;33mFlatten\u001b[0m)               │ (\u001b[38;5;45mNone\u001b[0m, \u001b[38;5;34m25088\u001b[0m)          │             \u001b[38;5;34m0\u001b[0m │\n",
              "├─────────────────────────────────┼────────────────────────┼───────────────┤\n",
              "│ dense (\u001b[38;5;33mDense\u001b[0m)                   │ (\u001b[38;5;45mNone\u001b[0m, \u001b[38;5;34m16\u001b[0m)             │       \u001b[38;5;34m401,424\u001b[0m │\n",
              "├─────────────────────────────────┼────────────────────────┼───────────────┤\n",
              "│ dense_1 (\u001b[38;5;33mDense\u001b[0m)                 │ (\u001b[38;5;45mNone\u001b[0m, \u001b[38;5;34m10\u001b[0m)             │           \u001b[38;5;34m170\u001b[0m │\n",
              "└─────────────────────────────────┴────────────────────────┴───────────────┘\n"
            ]
          },
          "metadata": {},
          "output_type": "display_data"
        },
        {
          "data": {
            "text/html": [
              "<pre style=\"white-space:pre;overflow-x:auto;line-height:normal;font-family:Menlo,'DejaVu Sans Mono',consolas,'Courier New',monospace\"><span style=\"font-weight: bold\"> Total params: </span><span style=\"color: #00af00; text-decoration-color: #00af00\">401,914</span> (1.53 MB)\n",
              "</pre>\n"
            ],
            "text/plain": [
              "\u001b[1m Total params: \u001b[0m\u001b[38;5;34m401,914\u001b[0m (1.53 MB)\n"
            ]
          },
          "metadata": {},
          "output_type": "display_data"
        },
        {
          "data": {
            "text/html": [
              "<pre style=\"white-space:pre;overflow-x:auto;line-height:normal;font-family:Menlo,'DejaVu Sans Mono',consolas,'Courier New',monospace\"><span style=\"font-weight: bold\"> Trainable params: </span><span style=\"color: #00af00; text-decoration-color: #00af00\">401,914</span> (1.53 MB)\n",
              "</pre>\n"
            ],
            "text/plain": [
              "\u001b[1m Trainable params: \u001b[0m\u001b[38;5;34m401,914\u001b[0m (1.53 MB)\n"
            ]
          },
          "metadata": {},
          "output_type": "display_data"
        },
        {
          "data": {
            "text/html": [
              "<pre style=\"white-space:pre;overflow-x:auto;line-height:normal;font-family:Menlo,'DejaVu Sans Mono',consolas,'Courier New',monospace\"><span style=\"font-weight: bold\"> Non-trainable params: </span><span style=\"color: #00af00; text-decoration-color: #00af00\">0</span> (0.00 B)\n",
              "</pre>\n"
            ],
            "text/plain": [
              "\u001b[1m Non-trainable params: \u001b[0m\u001b[38;5;34m0\u001b[0m (0.00 B)\n"
            ]
          },
          "metadata": {},
          "output_type": "display_data"
        }
      ],
      "source": [
        "# モデルの構造を表示\n",
        "model.summary()"
      ]
    },
    {
      "cell_type": "code",
      "execution_count": 14,
      "metadata": {
        "id": "n_l5CJZjzmFD"
      },
      "outputs": [
        {
          "name": "stdout",
          "output_type": "stream",
          "text": [
            "Epoch 1/5000\n",
            "\u001b[1m1313/1313\u001b[0m \u001b[32m━━━━━━━━━━━━━━━━━━━━\u001b[0m\u001b[37m\u001b[0m \u001b[1m3s\u001b[0m 2ms/step - accuracy: 0.6216 - loss: 1.3141 - val_accuracy: 0.9374 - val_loss: 0.2305\n",
            "Epoch 2/5000\n",
            "\u001b[1m1313/1313\u001b[0m \u001b[32m━━━━━━━━━━━━━━━━━━━━\u001b[0m\u001b[37m\u001b[0m \u001b[1m3s\u001b[0m 2ms/step - accuracy: 0.9592 - loss: 0.1457 - val_accuracy: 0.9641 - val_loss: 0.1297\n",
            "Epoch 3/5000\n",
            "\u001b[1m1313/1313\u001b[0m \u001b[32m━━━━━━━━━━━━━━━━━━━━\u001b[0m\u001b[37m\u001b[0m \u001b[1m3s\u001b[0m 2ms/step - accuracy: 0.9780 - loss: 0.0789 - val_accuracy: 0.9663 - val_loss: 0.1203\n",
            "Epoch 4/5000\n",
            "\u001b[1m1313/1313\u001b[0m \u001b[32m━━━━━━━━━━━━━━━━━━━━\u001b[0m\u001b[37m\u001b[0m \u001b[1m3s\u001b[0m 2ms/step - accuracy: 0.9854 - loss: 0.0519 - val_accuracy: 0.9683 - val_loss: 0.1291\n",
            "Epoch 5/5000\n",
            "\u001b[1m1313/1313\u001b[0m \u001b[32m━━━━━━━━━━━━━━━━━━━━\u001b[0m\u001b[37m\u001b[0m \u001b[1m3s\u001b[0m 2ms/step - accuracy: 0.9899 - loss: 0.0359 - val_accuracy: 0.9641 - val_loss: 0.1814\n",
            "Epoch 6/5000\n",
            "\u001b[1m1313/1313\u001b[0m \u001b[32m━━━━━━━━━━━━━━━━━━━━\u001b[0m\u001b[37m\u001b[0m \u001b[1m3s\u001b[0m 2ms/step - accuracy: 0.9934 - loss: 0.0250 - val_accuracy: 0.9685 - val_loss: 0.2165\n",
            "Epoch 7/5000\n",
            "\u001b[1m1313/1313\u001b[0m \u001b[32m━━━━━━━━━━━━━━━━━━━━\u001b[0m\u001b[37m\u001b[0m \u001b[1m3s\u001b[0m 2ms/step - accuracy: 0.9952 - loss: 0.0203 - val_accuracy: 0.9706 - val_loss: 0.2144\n",
            "Epoch 8/5000\n",
            "\u001b[1m1313/1313\u001b[0m \u001b[32m━━━━━━━━━━━━━━━━━━━━\u001b[0m\u001b[37m\u001b[0m \u001b[1m3s\u001b[0m 2ms/step - accuracy: 0.9962 - loss: 0.0140 - val_accuracy: 0.9706 - val_loss: 0.2409\n",
            "Epoch 9/5000\n",
            "\u001b[1m1313/1313\u001b[0m \u001b[32m━━━━━━━━━━━━━━━━━━━━\u001b[0m\u001b[37m\u001b[0m \u001b[1m3s\u001b[0m 2ms/step - accuracy: 0.9974 - loss: 0.0104 - val_accuracy: 0.9715 - val_loss: 0.2381\n",
            "Epoch 10/5000\n",
            "\u001b[1m1313/1313\u001b[0m \u001b[32m━━━━━━━━━━━━━━━━━━━━\u001b[0m\u001b[37m\u001b[0m \u001b[1m3s\u001b[0m 2ms/step - accuracy: 0.9978 - loss: 0.0079 - val_accuracy: 0.9737 - val_loss: 0.2782\n",
            "Epoch 11/5000\n",
            "\u001b[1m1313/1313\u001b[0m \u001b[32m━━━━━━━━━━━━━━━━━━━━\u001b[0m\u001b[37m\u001b[0m \u001b[1m3s\u001b[0m 2ms/step - accuracy: 0.9983 - loss: 0.0070 - val_accuracy: 0.9716 - val_loss: 0.2891\n",
            "Epoch 12/5000\n",
            "\u001b[1m1313/1313\u001b[0m \u001b[32m━━━━━━━━━━━━━━━━━━━━\u001b[0m\u001b[37m\u001b[0m \u001b[1m3s\u001b[0m 2ms/step - accuracy: 0.9983 - loss: 0.0059 - val_accuracy: 0.9698 - val_loss: 0.4021\n",
            "Epoch 13/5000\n",
            "\u001b[1m1313/1313\u001b[0m \u001b[32m━━━━━━━━━━━━━━━━━━━━\u001b[0m\u001b[37m\u001b[0m \u001b[1m3s\u001b[0m 2ms/step - accuracy: 0.9986 - loss: 0.0060 - val_accuracy: 0.9697 - val_loss: 0.3951\n",
            "Epoch 14/5000\n",
            "\u001b[1m1313/1313\u001b[0m \u001b[32m━━━━━━━━━━━━━━━━━━━━\u001b[0m\u001b[37m\u001b[0m \u001b[1m3s\u001b[0m 2ms/step - accuracy: 0.9985 - loss: 0.0064 - val_accuracy: 0.9723 - val_loss: 0.3520\n",
            "Epoch 15/5000\n",
            "\u001b[1m1313/1313\u001b[0m \u001b[32m━━━━━━━━━━━━━━━━━━━━\u001b[0m\u001b[37m\u001b[0m \u001b[1m3s\u001b[0m 2ms/step - accuracy: 0.9988 - loss: 0.0050 - val_accuracy: 0.9711 - val_loss: 0.4148\n",
            "Epoch 16/5000\n",
            "\u001b[1m1313/1313\u001b[0m \u001b[32m━━━━━━━━━━━━━━━━━━━━\u001b[0m\u001b[37m\u001b[0m \u001b[1m3s\u001b[0m 3ms/step - accuracy: 0.9993 - loss: 0.0028 - val_accuracy: 0.9734 - val_loss: 0.4216\n",
            "Epoch 17/5000\n",
            "\u001b[1m1313/1313\u001b[0m \u001b[32m━━━━━━━━━━━━━━━━━━━━\u001b[0m\u001b[37m\u001b[0m \u001b[1m3s\u001b[0m 2ms/step - accuracy: 0.9993 - loss: 0.0039 - val_accuracy: 0.9710 - val_loss: 0.4487\n",
            "Epoch 18/5000\n",
            "\u001b[1m1313/1313\u001b[0m \u001b[32m━━━━━━━━━━━━━━━━━━━━\u001b[0m\u001b[37m\u001b[0m \u001b[1m3s\u001b[0m 2ms/step - accuracy: 0.9992 - loss: 0.0035 - val_accuracy: 0.9727 - val_loss: 0.4527\n",
            "Epoch 19/5000\n",
            "\u001b[1m1313/1313\u001b[0m \u001b[32m━━━━━━━━━━━━━━━━━━━━\u001b[0m\u001b[37m\u001b[0m \u001b[1m3s\u001b[0m 2ms/step - accuracy: 0.9994 - loss: 0.0028 - val_accuracy: 0.9713 - val_loss: 0.5054\n",
            "Epoch 20/5000\n",
            "\u001b[1m1313/1313\u001b[0m \u001b[32m━━━━━━━━━━━━━━━━━━━━\u001b[0m\u001b[37m\u001b[0m \u001b[1m3s\u001b[0m 3ms/step - accuracy: 0.9996 - loss: 0.0020 - val_accuracy: 0.9702 - val_loss: 0.5257\n",
            "Epoch 21/5000\n",
            "\u001b[1m1313/1313\u001b[0m \u001b[32m━━━━━━━━━━━━━━━━━━━━\u001b[0m\u001b[37m\u001b[0m \u001b[1m3s\u001b[0m 2ms/step - accuracy: 0.9995 - loss: 0.0018 - val_accuracy: 0.9711 - val_loss: 0.4855\n",
            "Epoch 22/5000\n",
            "\u001b[1m1313/1313\u001b[0m \u001b[32m━━━━━━━━━━━━━━━━━━━━\u001b[0m\u001b[37m\u001b[0m \u001b[1m3s\u001b[0m 3ms/step - accuracy: 0.9996 - loss: 0.0013 - val_accuracy: 0.9724 - val_loss: 0.5399\n",
            "Epoch 23/5000\n",
            "\u001b[1m1313/1313\u001b[0m \u001b[32m━━━━━━━━━━━━━━━━━━━━\u001b[0m\u001b[37m\u001b[0m \u001b[1m3s\u001b[0m 2ms/step - accuracy: 0.9997 - loss: 8.6201e-04 - val_accuracy: 0.9724 - val_loss: 0.5442\n",
            "Epoch 24/5000\n",
            "\u001b[1m1313/1313\u001b[0m \u001b[32m━━━━━━━━━━━━━━━━━━━━\u001b[0m\u001b[37m\u001b[0m \u001b[1m3s\u001b[0m 3ms/step - accuracy: 0.9998 - loss: 5.2148e-04 - val_accuracy: 0.9716 - val_loss: 0.5334\n",
            "Epoch 25/5000\n",
            "\u001b[1m1313/1313\u001b[0m \u001b[32m━━━━━━━━━━━━━━━━━━━━\u001b[0m\u001b[37m\u001b[0m \u001b[1m3s\u001b[0m 2ms/step - accuracy: 0.9997 - loss: 9.4079e-04 - val_accuracy: 0.9726 - val_loss: 0.5662\n",
            "Epoch 26/5000\n",
            "\u001b[1m1313/1313\u001b[0m \u001b[32m━━━━━━━━━━━━━━━━━━━━\u001b[0m\u001b[37m\u001b[0m \u001b[1m3s\u001b[0m 2ms/step - accuracy: 0.9999 - loss: 3.3855e-04 - val_accuracy: 0.9744 - val_loss: 0.5639\n",
            "Epoch 27/5000\n",
            "\u001b[1m1313/1313\u001b[0m \u001b[32m━━━━━━━━━━━━━━━━━━━━\u001b[0m\u001b[37m\u001b[0m \u001b[1m3s\u001b[0m 2ms/step - accuracy: 0.9999 - loss: 3.1343e-04 - val_accuracy: 0.9724 - val_loss: 0.6054\n",
            "Epoch 28/5000\n",
            "\u001b[1m1313/1313\u001b[0m \u001b[32m━━━━━━━━━━━━━━━━━━━━\u001b[0m\u001b[37m\u001b[0m \u001b[1m3s\u001b[0m 2ms/step - accuracy: 0.9999 - loss: 4.2974e-04 - val_accuracy: 0.9736 - val_loss: 0.5864\n",
            "Epoch 29/5000\n",
            "\u001b[1m1313/1313\u001b[0m \u001b[32m━━━━━━━━━━━━━━━━━━━━\u001b[0m\u001b[37m\u001b[0m \u001b[1m3s\u001b[0m 3ms/step - accuracy: 0.9998 - loss: 0.0016 - val_accuracy: 0.9726 - val_loss: 0.6637\n",
            "Epoch 30/5000\n",
            "\u001b[1m1313/1313\u001b[0m \u001b[32m━━━━━━━━━━━━━━━━━━━━\u001b[0m\u001b[37m\u001b[0m \u001b[1m3s\u001b[0m 3ms/step - accuracy: 0.9998 - loss: 6.7765e-04 - val_accuracy: 0.9734 - val_loss: 0.6320\n",
            "Epoch 31/5000\n",
            "\u001b[1m1313/1313\u001b[0m \u001b[32m━━━━━━━━━━━━━━━━━━━━\u001b[0m\u001b[37m\u001b[0m \u001b[1m3s\u001b[0m 2ms/step - accuracy: 0.9998 - loss: 0.0016 - val_accuracy: 0.9730 - val_loss: 0.6352\n",
            "Epoch 32/5000\n",
            "\u001b[1m1313/1313\u001b[0m \u001b[32m━━━━━━━━━━━━━━━━━━━━\u001b[0m\u001b[37m\u001b[0m \u001b[1m3s\u001b[0m 3ms/step - accuracy: 0.9997 - loss: 0.0012 - val_accuracy: 0.9713 - val_loss: 0.6710\n",
            "Epoch 33/5000\n",
            "\u001b[1m1313/1313\u001b[0m \u001b[32m━━━━━━━━━━━━━━━━━━━━\u001b[0m\u001b[37m\u001b[0m \u001b[1m3s\u001b[0m 2ms/step - accuracy: 0.9997 - loss: 0.0019 - val_accuracy: 0.9703 - val_loss: 0.6941\n",
            "Epoch 34/5000\n",
            "\u001b[1m1313/1313\u001b[0m \u001b[32m━━━━━━━━━━━━━━━━━━━━\u001b[0m\u001b[37m\u001b[0m \u001b[1m3s\u001b[0m 2ms/step - accuracy: 0.9999 - loss: 4.4260e-04 - val_accuracy: 0.9726 - val_loss: 0.6459\n",
            "Epoch 35/5000\n",
            "\u001b[1m1313/1313\u001b[0m \u001b[32m━━━━━━━━━━━━━━━━━━━━\u001b[0m\u001b[37m\u001b[0m \u001b[1m3s\u001b[0m 2ms/step - accuracy: 0.9997 - loss: 9.1754e-04 - val_accuracy: 0.9721 - val_loss: 0.6278\n",
            "Epoch 36/5000\n",
            "\u001b[1m1313/1313\u001b[0m \u001b[32m━━━━━━━━━━━━━━━━━━━━\u001b[0m\u001b[37m\u001b[0m \u001b[1m3s\u001b[0m 2ms/step - accuracy: 0.9999 - loss: 3.3846e-04 - val_accuracy: 0.9731 - val_loss: 0.6259\n",
            "Epoch 37/5000\n",
            "\u001b[1m1313/1313\u001b[0m \u001b[32m━━━━━━━━━━━━━━━━━━━━\u001b[0m\u001b[37m\u001b[0m \u001b[1m3s\u001b[0m 2ms/step - accuracy: 0.9999 - loss: 2.6293e-04 - val_accuracy: 0.9733 - val_loss: 0.7132\n",
            "Epoch 38/5000\n",
            "\u001b[1m1313/1313\u001b[0m \u001b[32m━━━━━━━━━━━━━━━━━━━━\u001b[0m\u001b[37m\u001b[0m \u001b[1m3s\u001b[0m 2ms/step - accuracy: 1.0000 - loss: 4.3098e-04 - val_accuracy: 0.9726 - val_loss: 0.7035\n",
            "Epoch 39/5000\n",
            "\u001b[1m1313/1313\u001b[0m \u001b[32m━━━━━━━━━━━━━━━━━━━━\u001b[0m\u001b[37m\u001b[0m \u001b[1m3s\u001b[0m 2ms/step - accuracy: 0.9999 - loss: 4.2599e-04 - val_accuracy: 0.9729 - val_loss: 0.6567\n",
            "Epoch 40/5000\n",
            "\u001b[1m1313/1313\u001b[0m \u001b[32m━━━━━━━━━━━━━━━━━━━━\u001b[0m\u001b[37m\u001b[0m \u001b[1m3s\u001b[0m 2ms/step - accuracy: 1.0000 - loss: 1.7286e-05 - val_accuracy: 0.9739 - val_loss: 0.6920\n",
            "Epoch 41/5000\n",
            "\u001b[1m1313/1313\u001b[0m \u001b[32m━━━━━━━━━━━━━━━━━━━━\u001b[0m\u001b[37m\u001b[0m \u001b[1m3s\u001b[0m 2ms/step - accuracy: 1.0000 - loss: 1.3758e-04 - val_accuracy: 0.9729 - val_loss: 0.6683\n",
            "Epoch 42/5000\n",
            "\u001b[1m1313/1313\u001b[0m \u001b[32m━━━━━━━━━━━━━━━━━━━━\u001b[0m\u001b[37m\u001b[0m \u001b[1m3s\u001b[0m 2ms/step - accuracy: 1.0000 - loss: 4.6416e-06 - val_accuracy: 0.9744 - val_loss: 0.6709\n",
            "Epoch 43/5000\n",
            "\u001b[1m1313/1313\u001b[0m \u001b[32m━━━━━━━━━━━━━━━━━━━━\u001b[0m\u001b[37m\u001b[0m \u001b[1m3s\u001b[0m 2ms/step - accuracy: 1.0000 - loss: 1.2931e-08 - val_accuracy: 0.9744 - val_loss: 0.6623\n",
            "Epoch 44/5000\n",
            "\u001b[1m1313/1313\u001b[0m \u001b[32m━━━━━━━━━━━━━━━━━━━━\u001b[0m\u001b[37m\u001b[0m \u001b[1m3s\u001b[0m 2ms/step - accuracy: 1.0000 - loss: 5.0577e-09 - val_accuracy: 0.9742 - val_loss: 0.6674\n",
            "Epoch 45/5000\n",
            "\u001b[1m1313/1313\u001b[0m \u001b[32m━━━━━━━━━━━━━━━━━━━━\u001b[0m\u001b[37m\u001b[0m \u001b[1m3s\u001b[0m 2ms/step - accuracy: 1.0000 - loss: 1.9017e-09 - val_accuracy: 0.9743 - val_loss: 0.6674\n",
            "Epoch 46/5000\n",
            "\u001b[1m1313/1313\u001b[0m \u001b[32m━━━━━━━━━━━━━━━━━━━━\u001b[0m\u001b[37m\u001b[0m \u001b[1m3s\u001b[0m 2ms/step - accuracy: 1.0000 - loss: 9.3948e-10 - val_accuracy: 0.9741 - val_loss: 0.6681\n",
            "Epoch 47/5000\n",
            "\u001b[1m1313/1313\u001b[0m \u001b[32m━━━━━━━━━━━━━━━━━━━━\u001b[0m\u001b[37m\u001b[0m \u001b[1m3s\u001b[0m 2ms/step - accuracy: 1.0000 - loss: 8.2311e-10 - val_accuracy: 0.9741 - val_loss: 0.6688\n",
            "Epoch 48/5000\n",
            "\u001b[1m1313/1313\u001b[0m \u001b[32m━━━━━━━━━━━━━━━━━━━━\u001b[0m\u001b[37m\u001b[0m \u001b[1m3s\u001b[0m 2ms/step - accuracy: 1.0000 - loss: 7.5215e-10 - val_accuracy: 0.9741 - val_loss: 0.6695\n",
            "Epoch 49/5000\n",
            "\u001b[1m1313/1313\u001b[0m \u001b[32m━━━━━━━━━━━━━━━━━━━━\u001b[0m\u001b[37m\u001b[0m \u001b[1m3s\u001b[0m 2ms/step - accuracy: 1.0000 - loss: 7.1242e-10 - val_accuracy: 0.9742 - val_loss: 0.6700\n",
            "Epoch 50/5000\n",
            "\u001b[1m1313/1313\u001b[0m \u001b[32m━━━━━━━━━━━━━━━━━━━━\u001b[0m\u001b[37m\u001b[0m \u001b[1m3s\u001b[0m 3ms/step - accuracy: 1.0000 - loss: 6.6133e-10 - val_accuracy: 0.9742 - val_loss: 0.6705\n",
            "Epoch 51/5000\n",
            "\u001b[1m1313/1313\u001b[0m \u001b[32m━━━━━━━━━━━━━━━━━━━━\u001b[0m\u001b[37m\u001b[0m \u001b[1m3s\u001b[0m 2ms/step - accuracy: 1.0000 - loss: 6.2727e-10 - val_accuracy: 0.9742 - val_loss: 0.6709\n",
            "Epoch 52/5000\n",
            "\u001b[1m1313/1313\u001b[0m \u001b[32m━━━━━━━━━━━━━━━━━━━━\u001b[0m\u001b[37m\u001b[0m \u001b[1m3s\u001b[0m 2ms/step - accuracy: 1.0000 - loss: 6.0456e-10 - val_accuracy: 0.9742 - val_loss: 0.6713\n",
            "Epoch 53/5000\n",
            "\u001b[1m1313/1313\u001b[0m \u001b[32m━━━━━━━━━━━━━━━━━━━━\u001b[0m\u001b[37m\u001b[0m \u001b[1m3s\u001b[0m 2ms/step - accuracy: 1.0000 - loss: 5.9037e-10 - val_accuracy: 0.9742 - val_loss: 0.6717\n",
            "Epoch 54/5000\n",
            "\u001b[1m1313/1313\u001b[0m \u001b[32m━━━━━━━━━━━━━━━━━━━━\u001b[0m\u001b[37m\u001b[0m \u001b[1m3s\u001b[0m 2ms/step - accuracy: 1.0000 - loss: 5.7334e-10 - val_accuracy: 0.9742 - val_loss: 0.6721\n",
            "Epoch 55/5000\n",
            "\u001b[1m1313/1313\u001b[0m \u001b[32m━━━━━━━━━━━━━━━━━━━━\u001b[0m\u001b[37m\u001b[0m \u001b[1m3s\u001b[0m 2ms/step - accuracy: 1.0000 - loss: 5.3928e-10 - val_accuracy: 0.9742 - val_loss: 0.6725\n",
            "Epoch 56/5000\n",
            "\u001b[1m1313/1313\u001b[0m \u001b[32m━━━━━━━━━━━━━━━━━━━━\u001b[0m\u001b[37m\u001b[0m \u001b[1m3s\u001b[0m 2ms/step - accuracy: 1.0000 - loss: 5.2793e-10 - val_accuracy: 0.9742 - val_loss: 0.6728\n",
            "Epoch 57/5000\n",
            "\u001b[1m1313/1313\u001b[0m \u001b[32m━━━━━━━━━━━━━━━━━━━━\u001b[0m\u001b[37m\u001b[0m \u001b[1m3s\u001b[0m 3ms/step - accuracy: 1.0000 - loss: 5.1941e-10 - val_accuracy: 0.9742 - val_loss: 0.6731\n",
            "Epoch 58/5000\n",
            "\u001b[1m1313/1313\u001b[0m \u001b[32m━━━━━━━━━━━━━━━━━━━━\u001b[0m\u001b[37m\u001b[0m \u001b[1m3s\u001b[0m 3ms/step - accuracy: 1.0000 - loss: 5.0238e-10 - val_accuracy: 0.9742 - val_loss: 0.6734\n",
            "Epoch 59/5000\n",
            "\u001b[1m1313/1313\u001b[0m \u001b[32m━━━━━━━━━━━━━━━━━━━━\u001b[0m\u001b[37m\u001b[0m \u001b[1m3s\u001b[0m 3ms/step - accuracy: 1.0000 - loss: 4.8535e-10 - val_accuracy: 0.9742 - val_loss: 0.6737\n",
            "Epoch 60/5000\n",
            "\u001b[1m1313/1313\u001b[0m \u001b[32m━━━━━━━━━━━━━━━━━━━━\u001b[0m\u001b[37m\u001b[0m \u001b[1m3s\u001b[0m 3ms/step - accuracy: 1.0000 - loss: 4.6548e-10 - val_accuracy: 0.9742 - val_loss: 0.6739\n",
            "Epoch 61/5000\n",
            "\u001b[1m1313/1313\u001b[0m \u001b[32m━━━━━━━━━━━━━━━━━━━━\u001b[0m\u001b[37m\u001b[0m \u001b[1m3s\u001b[0m 2ms/step - accuracy: 1.0000 - loss: 4.5697e-10 - val_accuracy: 0.9742 - val_loss: 0.6742\n",
            "Epoch 62/5000\n",
            "\u001b[1m1313/1313\u001b[0m \u001b[32m━━━━━━━━━━━━━━━━━━━━\u001b[0m\u001b[37m\u001b[0m \u001b[1m3s\u001b[0m 3ms/step - accuracy: 1.0000 - loss: 4.5413e-10 - val_accuracy: 0.9742 - val_loss: 0.6744\n",
            "Epoch 63/5000\n",
            "\u001b[1m1313/1313\u001b[0m \u001b[32m━━━━━━━━━━━━━━━━━━━━\u001b[0m\u001b[37m\u001b[0m \u001b[1m3s\u001b[0m 2ms/step - accuracy: 1.0000 - loss: 4.4562e-10 - val_accuracy: 0.9742 - val_loss: 0.6746\n",
            "Epoch 64/5000\n",
            "\u001b[1m1313/1313\u001b[0m \u001b[32m━━━━━━━━━━━━━━━━━━━━\u001b[0m\u001b[37m\u001b[0m \u001b[1m3s\u001b[0m 3ms/step - accuracy: 1.0000 - loss: 4.3710e-10 - val_accuracy: 0.9742 - val_loss: 0.6748\n",
            "Epoch 65/5000\n",
            "\u001b[1m1313/1313\u001b[0m \u001b[32m━━━━━━━━━━━━━━━━━━━━\u001b[0m\u001b[37m\u001b[0m \u001b[1m3s\u001b[0m 2ms/step - accuracy: 1.0000 - loss: 4.1723e-10 - val_accuracy: 0.9742 - val_loss: 0.6751\n",
            "Epoch 66/5000\n",
            "\u001b[1m1313/1313\u001b[0m \u001b[32m━━━━━━━━━━━━━━━━━━━━\u001b[0m\u001b[37m\u001b[0m \u001b[1m3s\u001b[0m 2ms/step - accuracy: 1.0000 - loss: 4.1439e-10 - val_accuracy: 0.9742 - val_loss: 0.6752\n",
            "Epoch 67/5000\n",
            "\u001b[1m1313/1313\u001b[0m \u001b[32m━━━━━━━━━━━━━━━━━━━━\u001b[0m\u001b[37m\u001b[0m \u001b[1m3s\u001b[0m 2ms/step - accuracy: 1.0000 - loss: 3.9169e-10 - val_accuracy: 0.9742 - val_loss: 0.6755\n",
            "Epoch 68/5000\n",
            "\u001b[1m1313/1313\u001b[0m \u001b[32m━━━━━━━━━━━━━━━━━━━━\u001b[0m\u001b[37m\u001b[0m \u001b[1m3s\u001b[0m 2ms/step - accuracy: 1.0000 - loss: 3.8885e-10 - val_accuracy: 0.9742 - val_loss: 0.6757\n",
            "Epoch 69/5000\n",
            "\u001b[1m1313/1313\u001b[0m \u001b[32m━━━━━━━━━━━━━━━━━━━━\u001b[0m\u001b[37m\u001b[0m \u001b[1m3s\u001b[0m 2ms/step - accuracy: 1.0000 - loss: 3.8601e-10 - val_accuracy: 0.9742 - val_loss: 0.6759\n",
            "Epoch 70/5000\n",
            "\u001b[1m1313/1313\u001b[0m \u001b[32m━━━━━━━━━━━━━━━━━━━━\u001b[0m\u001b[37m\u001b[0m \u001b[1m3s\u001b[0m 3ms/step - accuracy: 1.0000 - loss: 3.8317e-10 - val_accuracy: 0.9742 - val_loss: 0.6761\n",
            "Epoch 71/5000\n",
            "\u001b[1m1313/1313\u001b[0m \u001b[32m━━━━━━━━━━━━━━━━━━━━\u001b[0m\u001b[37m\u001b[0m \u001b[1m3s\u001b[0m 3ms/step - accuracy: 1.0000 - loss: 3.8033e-10 - val_accuracy: 0.9742 - val_loss: 0.6763\n",
            "Epoch 72/5000\n",
            "\u001b[1m1313/1313\u001b[0m \u001b[32m━━━━━━━━━━━━━━━━━━━━\u001b[0m\u001b[37m\u001b[0m \u001b[1m3s\u001b[0m 3ms/step - accuracy: 1.0000 - loss: 3.6614e-10 - val_accuracy: 0.9742 - val_loss: 0.6764\n",
            "Epoch 73/5000\n",
            "\u001b[1m1313/1313\u001b[0m \u001b[32m━━━━━━━━━━━━━━━━━━━━\u001b[0m\u001b[37m\u001b[0m \u001b[1m3s\u001b[0m 2ms/step - accuracy: 1.0000 - loss: 3.5763e-10 - val_accuracy: 0.9742 - val_loss: 0.6766\n",
            "Epoch 74/5000\n",
            "\u001b[1m1313/1313\u001b[0m \u001b[32m━━━━━━━━━━━━━━━━━━━━\u001b[0m\u001b[37m\u001b[0m \u001b[1m3s\u001b[0m 2ms/step - accuracy: 1.0000 - loss: 3.5479e-10 - val_accuracy: 0.9742 - val_loss: 0.6768\n",
            "Epoch 75/5000\n",
            "\u001b[1m1313/1313\u001b[0m \u001b[32m━━━━━━━━━━━━━━━━━━━━\u001b[0m\u001b[37m\u001b[0m \u001b[1m3s\u001b[0m 3ms/step - accuracy: 1.0000 - loss: 3.4911e-10 - val_accuracy: 0.9742 - val_loss: 0.6769\n",
            "Epoch 76/5000\n",
            "\u001b[1m1313/1313\u001b[0m \u001b[32m━━━━━━━━━━━━━━━━━━━━\u001b[0m\u001b[37m\u001b[0m \u001b[1m3s\u001b[0m 3ms/step - accuracy: 1.0000 - loss: 3.4060e-10 - val_accuracy: 0.9742 - val_loss: 0.6771\n",
            "Epoch 77/5000\n",
            "\u001b[1m1313/1313\u001b[0m \u001b[32m━━━━━━━━━━━━━━━━━━━━\u001b[0m\u001b[37m\u001b[0m \u001b[1m3s\u001b[0m 2ms/step - accuracy: 1.0000 - loss: 3.3208e-10 - val_accuracy: 0.9742 - val_loss: 0.6773\n",
            "Epoch 78/5000\n",
            "\u001b[1m1313/1313\u001b[0m \u001b[32m━━━━━━━━━━━━━━━━━━━━\u001b[0m\u001b[37m\u001b[0m \u001b[1m3s\u001b[0m 2ms/step - accuracy: 1.0000 - loss: 3.2357e-10 - val_accuracy: 0.9742 - val_loss: 0.6775\n",
            "Epoch 79/5000\n",
            "\u001b[1m1313/1313\u001b[0m \u001b[32m━━━━━━━━━━━━━━━━━━━━\u001b[0m\u001b[37m\u001b[0m \u001b[1m3s\u001b[0m 3ms/step - accuracy: 1.0000 - loss: 3.2073e-10 - val_accuracy: 0.9742 - val_loss: 0.6776\n",
            "Epoch 80/5000\n",
            "\u001b[1m1313/1313\u001b[0m \u001b[32m━━━━━━━━━━━━━━━━━━━━\u001b[0m\u001b[37m\u001b[0m \u001b[1m3s\u001b[0m 2ms/step - accuracy: 1.0000 - loss: 3.2073e-10 - val_accuracy: 0.9743 - val_loss: 0.6778\n",
            "Epoch 81/5000\n",
            "\u001b[1m1313/1313\u001b[0m \u001b[32m━━━━━━━━━━━━━━━━━━━━\u001b[0m\u001b[37m\u001b[0m \u001b[1m3s\u001b[0m 2ms/step - accuracy: 1.0000 - loss: 3.1221e-10 - val_accuracy: 0.9743 - val_loss: 0.6780\n",
            "Epoch 82/5000\n",
            "\u001b[1m1313/1313\u001b[0m \u001b[32m━━━━━━━━━━━━━━━━━━━━\u001b[0m\u001b[37m\u001b[0m \u001b[1m3s\u001b[0m 2ms/step - accuracy: 1.0000 - loss: 3.0370e-10 - val_accuracy: 0.9743 - val_loss: 0.6781\n",
            "Epoch 83/5000\n",
            "\u001b[1m1313/1313\u001b[0m \u001b[32m━━━━━━━━━━━━━━━━━━━━\u001b[0m\u001b[37m\u001b[0m \u001b[1m3s\u001b[0m 2ms/step - accuracy: 1.0000 - loss: 3.0370e-10 - val_accuracy: 0.9743 - val_loss: 0.6783\n",
            "Epoch 84/5000\n",
            "\u001b[1m1313/1313\u001b[0m \u001b[32m━━━━━━━━━━━━━━━━━━━━\u001b[0m\u001b[37m\u001b[0m \u001b[1m3s\u001b[0m 2ms/step - accuracy: 1.0000 - loss: 3.0370e-10 - val_accuracy: 0.9743 - val_loss: 0.6784\n",
            "Epoch 85/5000\n",
            "\u001b[1m1313/1313\u001b[0m \u001b[32m━━━━━━━━━━━━━━━━━━━━\u001b[0m\u001b[37m\u001b[0m \u001b[1m3s\u001b[0m 2ms/step - accuracy: 1.0000 - loss: 2.9518e-10 - val_accuracy: 0.9743 - val_loss: 0.6786\n",
            "Epoch 86/5000\n",
            "\u001b[1m1313/1313\u001b[0m \u001b[32m━━━━━━━━━━━━━━━━━━━━\u001b[0m\u001b[37m\u001b[0m \u001b[1m3s\u001b[0m 2ms/step - accuracy: 1.0000 - loss: 2.8951e-10 - val_accuracy: 0.9743 - val_loss: 0.6787\n",
            "Epoch 87/5000\n",
            "\u001b[1m1313/1313\u001b[0m \u001b[32m━━━━━━━━━━━━━━━━━━━━\u001b[0m\u001b[37m\u001b[0m \u001b[1m3s\u001b[0m 2ms/step - accuracy: 1.0000 - loss: 2.8667e-10 - val_accuracy: 0.9743 - val_loss: 0.6788\n",
            "Epoch 88/5000\n",
            "\u001b[1m1313/1313\u001b[0m \u001b[32m━━━━━━━━━━━━━━━━━━━━\u001b[0m\u001b[37m\u001b[0m \u001b[1m3s\u001b[0m 2ms/step - accuracy: 1.0000 - loss: 2.8383e-10 - val_accuracy: 0.9743 - val_loss: 0.6790\n",
            "Epoch 89/5000\n",
            "\u001b[1m1313/1313\u001b[0m \u001b[32m━━━━━━━━━━━━━━━━━━━━\u001b[0m\u001b[37m\u001b[0m \u001b[1m3s\u001b[0m 2ms/step - accuracy: 1.0000 - loss: 2.7248e-10 - val_accuracy: 0.9743 - val_loss: 0.6791\n",
            "Epoch 90/5000\n",
            "\u001b[1m1313/1313\u001b[0m \u001b[32m━━━━━━━━━━━━━━━━━━━━\u001b[0m\u001b[37m\u001b[0m \u001b[1m3s\u001b[0m 2ms/step - accuracy: 1.0000 - loss: 2.7532e-10 - val_accuracy: 0.9743 - val_loss: 0.6792\n",
            "Epoch 91/5000\n",
            "\u001b[1m1313/1313\u001b[0m \u001b[32m━━━━━━━━━━━━━━━━━━━━\u001b[0m\u001b[37m\u001b[0m \u001b[1m3s\u001b[0m 2ms/step - accuracy: 1.0000 - loss: 2.7532e-10 - val_accuracy: 0.9743 - val_loss: 0.6793\n",
            "Epoch 92/5000\n",
            "\u001b[1m1313/1313\u001b[0m \u001b[32m━━━━━━━━━━━━━━━━━━━━\u001b[0m\u001b[37m\u001b[0m \u001b[1m3s\u001b[0m 2ms/step - accuracy: 1.0000 - loss: 2.6964e-10 - val_accuracy: 0.9743 - val_loss: 0.6794\n",
            "Epoch 93/5000\n",
            "\u001b[1m1313/1313\u001b[0m \u001b[32m━━━━━━━━━━━━━━━━━━━━\u001b[0m\u001b[37m\u001b[0m \u001b[1m3s\u001b[0m 2ms/step - accuracy: 1.0000 - loss: 2.6113e-10 - val_accuracy: 0.9743 - val_loss: 0.6795\n",
            "Epoch 94/5000\n",
            "\u001b[1m1313/1313\u001b[0m \u001b[32m━━━━━━━━━━━━━━━━━━━━\u001b[0m\u001b[37m\u001b[0m \u001b[1m3s\u001b[0m 2ms/step - accuracy: 1.0000 - loss: 2.6113e-10 - val_accuracy: 0.9743 - val_loss: 0.6797\n",
            "Epoch 95/5000\n",
            "\u001b[1m1313/1313\u001b[0m \u001b[32m━━━━━━━━━━━━━━━━━━━━\u001b[0m\u001b[37m\u001b[0m \u001b[1m3s\u001b[0m 2ms/step - accuracy: 1.0000 - loss: 2.5545e-10 - val_accuracy: 0.9743 - val_loss: 0.6798\n",
            "Epoch 96/5000\n",
            "\u001b[1m1313/1313\u001b[0m \u001b[32m━━━━━━━━━━━━━━━━━━━━\u001b[0m\u001b[37m\u001b[0m \u001b[1m3s\u001b[0m 2ms/step - accuracy: 1.0000 - loss: 2.4977e-10 - val_accuracy: 0.9743 - val_loss: 0.6799\n",
            "Epoch 97/5000\n",
            "\u001b[1m1313/1313\u001b[0m \u001b[32m━━━━━━━━━━━━━━━━━━━━\u001b[0m\u001b[37m\u001b[0m \u001b[1m3s\u001b[0m 3ms/step - accuracy: 1.0000 - loss: 2.4977e-10 - val_accuracy: 0.9743 - val_loss: 0.6800\n",
            "Epoch 98/5000\n",
            "\u001b[1m1313/1313\u001b[0m \u001b[32m━━━━━━━━━━━━━━━━━━━━\u001b[0m\u001b[37m\u001b[0m \u001b[1m3s\u001b[0m 3ms/step - accuracy: 1.0000 - loss: 2.4693e-10 - val_accuracy: 0.9743 - val_loss: 0.6801\n",
            "Epoch 99/5000\n",
            "\u001b[1m1313/1313\u001b[0m \u001b[32m━━━━━━━━━━━━━━━━━━━━\u001b[0m\u001b[37m\u001b[0m \u001b[1m3s\u001b[0m 3ms/step - accuracy: 1.0000 - loss: 2.4977e-10 - val_accuracy: 0.9743 - val_loss: 0.6802\n",
            "Epoch 100/5000\n",
            "\u001b[1m1313/1313\u001b[0m \u001b[32m━━━━━━━━━━━━━━━━━━━━\u001b[0m\u001b[37m\u001b[0m \u001b[1m3s\u001b[0m 2ms/step - accuracy: 1.0000 - loss: 2.4977e-10 - val_accuracy: 0.9743 - val_loss: 0.6803\n",
            "Epoch 101/5000\n",
            "\u001b[1m1313/1313\u001b[0m \u001b[32m━━━━━━━━━━━━━━━━━━━━\u001b[0m\u001b[37m\u001b[0m \u001b[1m3s\u001b[0m 3ms/step - accuracy: 1.0000 - loss: 2.4693e-10 - val_accuracy: 0.9743 - val_loss: 0.6804\n",
            "Epoch 102/5000\n",
            "\u001b[1m1313/1313\u001b[0m \u001b[32m━━━━━━━━━━━━━━━━━━━━\u001b[0m\u001b[37m\u001b[0m \u001b[1m3s\u001b[0m 2ms/step - accuracy: 1.0000 - loss: 2.4410e-10 - val_accuracy: 0.9743 - val_loss: 0.6805\n",
            "Epoch 103/5000\n",
            "\u001b[1m1313/1313\u001b[0m \u001b[32m━━━━━━━━━━━━━━━━━━━━\u001b[0m\u001b[37m\u001b[0m \u001b[1m3s\u001b[0m 2ms/step - accuracy: 1.0000 - loss: 2.3558e-10 - val_accuracy: 0.9743 - val_loss: 0.6806\n",
            "Epoch 103: early stopping\n",
            "CPU times: user 14min 44s, sys: 9min 35s, total: 24min 20s\n",
            "Wall time: 5min 32s\n"
          ]
        }
      ],
      "source": [
        "%%time\n",
        "# 学習の実施(ものすごく時間がかかる場合もあります)\n",
        "log = model.fit(X_train2, Y_train2, epochs=5000, batch_size=32, verbose=True,\n",
        "                callbacks=[tf.keras.callbacks.EarlyStopping(monitor='val_loss',\n",
        "                                                            min_delta=0, patience=100,\n",
        "                                                            verbose=1)],\n",
        "                validation_data=(X_valid2, Y_valid2))"
      ]
    },
    {
      "cell_type": "code",
      "execution_count": 15,
      "metadata": {
        "id": "TfBvM2u0z0zl"
      },
      "outputs": [
        {
          "data": {
            "text/plain": [
              "Text(0, 0.5, 'crossentropy')"
            ]
          },
          "execution_count": 15,
          "metadata": {},
          "output_type": "execute_result"
        },
        {
          "data": {
            "image/png": "[encoded data removed]",
            "text/plain": [
              "<Figure size 640x480 with 1 Axes>"
            ]
          },
          "metadata": {},
          "output_type": "display_data"
        }
      ],
      "source": [
        "# 学習過程をグラフ表示\n",
        "plt.plot(log.history['loss'], label='loss')\n",
        "plt.plot(log.history['val_loss'], label='val_loss')\n",
        "plt.legend(frameon=False) # 凡例の表示\n",
        "plt.xlabel(\"epochs\")\n",
        "plt.ylabel(\"crossentropy\")\n"
      ]
    },
    {
      "cell_type": "code",
      "execution_count": 16,
      "metadata": {
        "id": "vDJLpcPLz2_D"
      },
      "outputs": [
        {
          "name": "stdout",
          "output_type": "stream",
          "text": [
            "\u001b[1m313/313\u001b[0m \u001b[32m━━━━━━━━━━━━━━━━━━━━\u001b[0m\u001b[37m\u001b[0m \u001b[1m0s\u001b[0m 638us/step\n"
          ]
        }
      ],
      "source": [
        "# predictを使い、X_test2をもとに予測した結果を、\n",
        "# カテゴリー変数へ復元してY_pred2に代入\n",
        "Y_pred2 = np.argmax(model.predict(X_test2), axis=1)"
      ]
    },
    {
      "cell_type": "code",
      "execution_count": 17,
      "metadata": {
        "id": "WUZDyVywz_nJ"
      },
      "outputs": [],
      "source": [
        "# Y_test2もカテゴリー変数へ復元して、Y_test2_ に代入\n",
        "Y_test2_ = np.argmax(Y_test2, axis=1)"
      ]
    },
    {
      "cell_type": "code",
      "execution_count": 18,
      "metadata": {
        "id": "9eJVx25y0X5Z"
      },
      "outputs": [
        {
          "name": "stdout",
          "output_type": "stream",
          "text": [
            "              precision    recall  f1-score   support\n",
            "\n",
            "           0       0.98      0.98      0.98       980\n",
            "           1       0.98      0.99      0.99      1135\n",
            "           2       0.98      0.98      0.98      1032\n",
            "           3       0.97      0.98      0.97      1010\n",
            "           4       0.98      0.98      0.98       982\n",
            "           5       0.98      0.96      0.97       892\n",
            "           6       0.97      0.98      0.97       958\n",
            "           7       0.98      0.96      0.97      1028\n",
            "           8       0.97      0.96      0.96       974\n",
            "           9       0.97      0.97      0.97      1009\n",
            "\n",
            "    accuracy                           0.97     10000\n",
            "   macro avg       0.97      0.97      0.97     10000\n",
            "weighted avg       0.97      0.97      0.97     10000\n",
            "\n"
          ]
        }
      ],
      "source": [
        "# classification_reportを使い、モデルの評価を実施\n",
        "from sklearn.metrics import classification_report\n",
        "print(classification_report(Y_test2_, Y_pred2))    "
      ]
    }
  ],
  "metadata": {
    "accelerator": "GPU",
    "colab": {
      "gpuType": "T4",
      "provenance": []
    },
    "kernelspec": {
      "display_name": ".venv",
      "language": "python",
      "name": "python3"
    },
    "language_info": {
      "codemirror_mode": {
        "name": "ipython",
        "version": 3
      },
      "file_extension": ".py",
      "mimetype": "text/x-python",
      "name": "python",
      "nbconvert_exporter": "python",
      "pygments_lexer": "ipython3",
      "version": "3.12.11"
    }
  },
  "nbformat": 4,
  "nbformat_minor": 0
}
